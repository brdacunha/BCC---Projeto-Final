{
  "nbformat": 4,
  "nbformat_minor": 0,
  "metadata": {
    "colab": {
      "provenance": [],
      "authorship_tag": "ABX9TyO6uKpieUWD5gZl/ZIqTRE/",
      "include_colab_link": true
    },
    "kernelspec": {
      "name": "python3",
      "display_name": "Python 3"
    },
    "language_info": {
      "name": "python"
    }
  },
  "cells": [
    {
      "cell_type": "markdown",
      "metadata": {
        "id": "view-in-github",
        "colab_type": "text"
      },
      "source": [
        "<a href=\"https://colab.research.google.com/github/brdacunha/BCC---Projeto-Final/blob/main/Projeto_Final_BCC_Bruno_e_Andr%C3%A9.ipynb\" target=\"_parent\"><img src=\"https://colab.research.google.com/assets/colab-badge.svg\" alt=\"Open In Colab\"/></a>"
      ]
    },
    {
      "cell_type": "markdown",
      "source": [
        "##Projeto Final - Bases Computacionais da Ciência - Em processo...\n",
        "\n",
        "Alunos: Bruno Rodrigues da Cunha e André"
      ],
      "metadata": {
        "id": "YzInkyX0_pN9"
      }
    },
    {
      "cell_type": "markdown",
      "source": [
        "Pingouin é um pacote estatístico de código aberto escrito em Python 3 e baseado principalmente em Pandas e NumPy. Algumas de suas principais características estão listadas abaixo.(Para obter uma lista completa das funções disponíveis, consulte o [API documentation](https://pingouin-stats.org/api.html).)\n",
        "\n",
        "1 - ANOVAs: N-ways, repeated measures, mixed, ancova\n",
        "\n",
        "2 - Pairwise post-hocs tests (parametric and non-parametric) and pairwise correlations\n",
        "\n",
        "3 - Robust, partial, distance and repeated measures correlations\n",
        "\n",
        "4 - Linear/logistic regression and mediation analysis\n",
        "\n",
        "5 - Bayes Factors\n",
        "\n",
        "6 - Multivariate tests\n",
        "\n",
        "7 - Reliability and consistency\n",
        "\n",
        "8 - Effect sizes and power analysis\n",
        "\n",
        "9 - Parametric/bootstrapped confidence intervals around an effect size or a correlation coefficient\n",
        "\n",
        "10 - Circular statistics\n",
        "\n",
        "11 - Chi-squared tests\n",
        "\n",
        "12 - Plotting: Bland-Altman plot, Q-Q plot, paired plot, robust correlation…\n",
        "\n",
        "Pingouin é projetado para usuários que desejam funções estatísticas simples, mas exaustivas."
      ],
      "metadata": {
        "id": "TnkdVMAuAk8w"
      }
    },
    {
      "cell_type": "markdown",
      "source": [
        "##Iniciando...\n",
        "\n",
        "Antes de começar a usar o Pingouin no Colab, é necessário instalar a biblioteca. Isso pode ser feito com o seguinte comando:\n",
        "\n",
        "**!pip install pingouin**\n",
        "\n",
        "Ao final da instalação, deve aparecer a seguinte mensagem:\n",
        "\n",
        "\"Successfully installed littleutils-0.2.2 outdated-0.2.2 pandas-flavor-0.2.0 pingouin-0.5.2 statsmodels-0.13.5\""
      ],
      "metadata": {
        "id": "jnYRngZW_3DA"
      }
    },
    {
      "cell_type": "code",
      "execution_count": null,
      "metadata": {
        "id": "_L9Vx_YU_nNY"
      },
      "outputs": [],
      "source": [
        "!pip install pingouin"
      ]
    },
    {
      "cell_type": "markdown",
      "source": [
        "##Trabalhando com o Pingouin\n",
        "\n",
        "**ANOVA**"
      ],
      "metadata": {
        "id": "fA9jIvC-AS_8"
      }
    },
    {
      "cell_type": "code",
      "source": [
        "import pingouin as pg\n",
        "import pandas as pd\n",
        "df = "
      ],
      "metadata": {
        "id": "i_UKlfYOAXc9"
      },
      "execution_count": null,
      "outputs": []
    }
  ]
}